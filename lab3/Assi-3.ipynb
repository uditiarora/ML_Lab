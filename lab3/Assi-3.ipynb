{
 "cells": [
  {
   "cell_type": "code",
   "execution_count": 47,
   "metadata": {},
   "outputs": [],
   "source": [
    "import numpy as np\n",
    "import pandas as pd\n",
    "from sklearn.model_selection import train_test_split"
   ]
  },
  {
   "cell_type": "code",
   "execution_count": 48,
   "metadata": {},
   "outputs": [],
   "source": [
    "y_data = [i for i in range(1,101)]\n",
    "x_data = [y_data[i]*2 + 1 for i in range(0,100)]\n",
    "x_train,x_test,y_train,y_test = train_test_split(x_data,y_data,test_size = 0.4, random_state=0)\n",
    "x_train = np.array(x_train)\n",
    "x_test = np.array(x_test)\n",
    "y_train = np.array(y_train)\n",
    "y_test = np.array(y_test)"
   ]
  },
  {
   "cell_type": "code",
   "execution_count": 49,
   "metadata": {},
   "outputs": [
    {
     "data": {
      "text/plain": [
       "(-0.5, 0.5)"
      ]
     },
     "execution_count": 49,
     "metadata": {},
     "output_type": "execute_result"
    }
   ],
   "source": [
    "#weights to minimize squared loss in case of linear model\n",
    "w1 = ((y_train * x_train).mean() - y_train.mean() * x_train.mean())/((x_train * x_train).mean() - x_train.mean() * x_train.mean())\n",
    "w0 = y_train.mean() - w1 * x_train.mean()\n",
    "w0,w1"
   ]
  },
  {
   "cell_type": "code",
   "execution_count": 50,
   "metadata": {},
   "outputs": [
    {
     "data": {
      "text/plain": [
       "(array([ 27.,  87.,   3.,  56.,  76.,  94.,  17.,  74.,  55.,  96.,  54.,\n",
       "         93.,  79.,  14.,   8.,  31.,  23.,  25.,  34.,   9.,  44.,  63.,\n",
       "          4.,  72.,  46.,  49.,   7., 100.,  83.,  77.,  61.,  81.,  91.,\n",
       "         69.,  52.,  28.,  19.,  57.,  64.,  75.]),\n",
       " array([ 27,  87,   3,  56,  76,  94,  17,  74,  55,  96,  54,  93,  79,\n",
       "         14,   8,  31,  23,  25,  34,   9,  44,  63,   4,  72,  46,  49,\n",
       "          7, 100,  83,  77,  61,  81,  91,  69,  52,  28,  19,  57,  64,\n",
       "         75]))"
      ]
     },
     "execution_count": 50,
     "metadata": {},
     "output_type": "execute_result"
    }
   ],
   "source": [
    "y_pred = x_test*w1 + w0\n",
    "y_pred, y_test"
   ]
  },
  {
   "cell_type": "code",
   "execution_count": 51,
   "metadata": {},
   "outputs": [
    {
     "name": "stdout",
     "output_type": "stream",
     "text": [
      "0.0\n"
     ]
    }
   ],
   "source": [
    "#calculating loss\n",
    "loss = 0\n",
    "for i in range(len(y_pred)):\n",
    "    loss += (y_test[i] - y_pred[i])**2\n",
    "print(loss)"
   ]
  },
  {
   "cell_type": "code",
   "execution_count": 52,
   "metadata": {
    "scrolled": true
   },
   "outputs": [
    {
     "data": {
      "text/plain": [
       "array([ 27,  87,   3,  56,  76,  94,  17,  74,  55,  96,  54,  93,  79,\n",
       "        14,   8,  31,  23,  25,  34,   9,  44,  63,   4,  72,  46,  49,\n",
       "         7, 100,  83,  77,  61,  81,  91,  69,  52,  28,  19,  57,  64,\n",
       "        75])"
      ]
     },
     "execution_count": 52,
     "metadata": {},
     "output_type": "execute_result"
    }
   ],
   "source": [
    "#trying on a fourth order polynomial\n",
    "x_data = np.array(x_data)\n",
    "x_2 = x_data * x_data\n",
    "x_3 = x_2 * x_data\n",
    "x_4 = x_3 * x_data\n",
    "x_data_new = []\n",
    "for i in range(len(x_data)):\n",
    "    x_data_new.append([x_data[i],x_2[i],x_3[i],x_4[i]])\n",
    "x_data_new = np.array(x_data_new)\n",
    "y_data = np.array(y_data)\n",
    "x_train,x_test,y_train,y_test = train_test_split(x_data_new,y_data,test_size = 0.4, random_state=0)\n",
    "y_test"
   ]
  },
  {
   "cell_type": "code",
   "execution_count": 53,
   "metadata": {},
   "outputs": [
    {
     "data": {
      "text/plain": [
       "LinearRegression(copy_X=True, fit_intercept=True, n_jobs=None,\n",
       "         normalize=False)"
      ]
     },
     "execution_count": 53,
     "metadata": {},
     "output_type": "execute_result"
    }
   ],
   "source": [
    "from sklearn.linear_model import LinearRegression\n",
    "model = LinearRegression()\n",
    "model.fit(x_train,y_train)"
   ]
  },
  {
   "cell_type": "code",
   "execution_count": 54,
   "metadata": {},
   "outputs": [
    {
     "name": "stdout",
     "output_type": "stream",
     "text": [
      "0.49999999999999983 8.437948743969273e-18 -8.713307424740716e-20 2.5611873666738825e-22 -0.5000000000000142\n"
     ]
    }
   ],
   "source": [
    "w1 = model.coef_[0]\n",
    "w2 = model.coef_[1]\n",
    "w3 = model.coef_[2]\n",
    "w4 = model.coef_[3]\n",
    "w0 = model.intercept_\n",
    "print(w1,w2,w3,w4,w0)"
   ]
  },
  {
   "cell_type": "code",
   "execution_count": 55,
   "metadata": {},
   "outputs": [
    {
     "name": "stdout",
     "output_type": "stream",
     "text": [
      "1.0\n",
      "7.538354810291989e-27\n"
     ]
    }
   ],
   "source": [
    "print(model.score(x_test,y_test))\n",
    "loss = 0\n",
    "for i in range(len(x_test)):\n",
    "    loss += (y_test[i] - (w0 + w1 * x_test[i][0] + w2 * x_test[i][1] + w3 * x_test[i][2] + w4 * x_test[i][3]))**2\n",
    "print(loss)"
   ]
  },
  {
   "cell_type": "code",
   "execution_count": 56,
   "metadata": {
    "scrolled": true
   },
   "outputs": [
    {
     "name": "stdout",
     "output_type": "stream",
     "text": [
      "0.49999999999999994 -2.849128066461316e-16 -0.4999999999999929\n",
      "1.0\n",
      "3.4571829171310842e-28\n"
     ]
    }
   ],
   "source": [
    "# trying with the third model\n",
    "a = 1\n",
    "x_sin = np.sin(x_data - a)\n",
    "x_data_new2 = []\n",
    "for i in range(len(x_data)):\n",
    "    x_data_new2.append([x_data[i],x_sin[i]])\n",
    "x_train,x_test,y_train,y_test = train_test_split(x_data_new2,y_data,test_size = 0.4, random_state=0)\n",
    "model2 = LinearRegression()\n",
    "model2.fit(x_train,y_train)\n",
    "w1 = model2.coef_[0]\n",
    "w2 = model2.coef_[1]\n",
    "w0 = model2.intercept_\n",
    "print(w1,w2,w0)\n",
    "print(model2.score(x_test,y_test))\n",
    "loss = 0\n",
    "for i in range(len(x_test)):\n",
    "    loss += (y_test[i] - (w1 * x_test[i][0] + w2 * x_test[i][1] + w0))**2\n",
    "print(loss)"
   ]
  }
 ],
 "metadata": {
  "kernelspec": {
   "display_name": "Python 3",
   "language": "python",
   "name": "python3"
  },
  "language_info": {
   "codemirror_mode": {
    "name": "ipython",
    "version": 3
   },
   "file_extension": ".py",
   "mimetype": "text/x-python",
   "name": "python",
   "nbconvert_exporter": "python",
   "pygments_lexer": "ipython3",
   "version": "3.7.3"
  }
 },
 "nbformat": 4,
 "nbformat_minor": 2
}
