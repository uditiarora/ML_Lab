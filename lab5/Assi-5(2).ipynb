{
 "cells": [
  {
   "cell_type": "code",
   "execution_count": 34,
   "metadata": {},
   "outputs": [],
   "source": [
    "from sklearn import datasets\n",
    "import pandas as pd\n",
    "from sklearn.model_selection import train_test_split\n",
    "import numpy as np\n",
    "import matplotlib\n",
    "import matplotlib.pyplot as plt"
   ]
  },
  {
   "cell_type": "code",
   "execution_count": 21,
   "metadata": {
    "scrolled": true
   },
   "outputs": [],
   "source": [
    "data = datasets.load_breast_cancer()\n",
    "x = np.array(data.data[:,:])\n",
    "y = np.array(data.target)\n"
   ]
  },
  {
   "cell_type": "code",
   "execution_count": 22,
   "metadata": {},
   "outputs": [],
   "source": [
    "class LogisticRegression_new:\n",
    "    def __init__(self, lr=0.01, num_iter=100000, fit_intercept=True, verbose=False,lamb = 0.1,theta=np.zeros(10)):\n",
    "        self.lr = lr\n",
    "        self.num_iter = num_iter\n",
    "        self.fit_intercept = fit_intercept\n",
    "        self.verbose = verbose\n",
    "        self.theta = theta\n",
    "        self.lamb = lamb\n",
    "    def __add_intercept(self, X):\n",
    "        intercept = np.ones((X.shape[0], 1))\n",
    "        return np.concatenate((intercept, X), axis=1)\n",
    "    \n",
    "    def __sigmoid(self, z):\n",
    "        return 1 / (1 + np.exp(-z))\n",
    "    def __loss(self, h, y):\n",
    "        return (-y * np.log(h) - (1 - y) * np.log(1 - h) + self.lamb*(self.theta * self.theta).sum()).mean() \n",
    "    \n",
    "    def fit(self, X, y):\n",
    "        if self.fit_intercept:\n",
    "            X = self.__add_intercept(X)\n",
    "        \n",
    "        # weights initialization\n",
    "        self.theta = np.zeros(X.shape[1])\n",
    "        loss = 0\n",
    "        for i in range(self.num_iter):\n",
    "            z = np.dot(X, self.theta)\n",
    "            h = self.__sigmoid(z)\n",
    "            gradient = (np.dot(X.T, (h - y)) + self.lamb * 2 * self.theta)/ y.size\n",
    "            self.theta -= self.lr * gradient\n",
    "            \n",
    "            z = np.dot(X, self.theta)\n",
    "            h = self.__sigmoid(z)\n",
    "            loss = self.__loss(h, y)\n",
    "                \n",
    "            if(self.verbose ==True and i % 100 == 0):\n",
    "                print(\"loss:\" ,{loss} )\n",
    "    \n",
    "    def predict_prob(self, X):\n",
    "        if self.fit_intercept:\n",
    "            X = self.__add_intercept(X)\n",
    "    \n",
    "        return self.__sigmoid(np.dot(X, self.theta))\n",
    "    \n",
    "    def predict(self, X):\n",
    "        return self.predict_prob(X).round()\n",
    "\n",
    "    def print_weights(self):\n",
    "        print(self.theta)\n",
    "    def get_weights(self):\n",
    "        return self.theta"
   ]
  },
  {
   "cell_type": "code",
   "execution_count": 23,
   "metadata": {},
   "outputs": [
    {
     "name": "stdout",
     "output_type": "stream",
     "text": [
      "[ 3.78126876e+00  2.90641376e+01  4.39258732e+01  1.67801789e+02\n",
      "  8.06097529e+01  2.47109200e-01 -1.57856506e-01 -5.75317156e-01\n",
      " -2.52774949e-01  4.50478631e-01  2.04363409e-01  1.68594159e-01\n",
      "  3.19505753e+00 -7.40784969e-01 -7.78809947e+01  1.45196469e-02\n",
      " -2.68696549e-02 -5.72770378e-02 -5.49830212e-03  3.36842263e-02\n",
      "  4.33078622e-03  3.06975933e+01  5.38009631e+01  1.66351109e+02\n",
      " -1.08915732e+02  2.90811290e-01 -6.24246879e-01 -1.23971279e+00\n",
      " -3.22618604e-01  5.66518788e-01  1.80845795e-01]\n",
      "('Score = ', 0.8859649122807017)\n"
     ]
    },
    {
     "name": "stderr",
     "output_type": "stream",
     "text": [
      "/home/uditi/anaconda2/lib/python2.7/site-packages/ipykernel_launcher.py:16: RuntimeWarning: divide by zero encountered in log\n",
      "  app.launch_new_instance()\n",
      "/home/uditi/anaconda2/lib/python2.7/site-packages/ipykernel_launcher.py:16: RuntimeWarning: invalid value encountered in multiply\n",
      "  app.launch_new_instance()\n"
     ]
    }
   ],
   "source": [
    "x_train,x_test, y_train, y_test = train_test_split(x,y,test_size = 0.4, random_state = 0)\n",
    "model = LogisticRegression_new(lr=0.1, num_iter=1000,lamb = 0.01)\n",
    "model.fit(x_train,y_train)\n",
    "preds = model.predict(x_test)\n",
    "model.print_weights()\n",
    "print(\"Score = \",(preds == y_test).mean())\n"
   ]
  },
  {
   "cell_type": "code",
   "execution_count": 24,
   "metadata": {},
   "outputs": [
    {
     "name": "stderr",
     "output_type": "stream",
     "text": [
      "/home/uditi/anaconda2/lib/python2.7/site-packages/ipykernel_launcher.py:16: RuntimeWarning: divide by zero encountered in log\n",
      "  app.launch_new_instance()\n",
      "/home/uditi/anaconda2/lib/python2.7/site-packages/ipykernel_launcher.py:16: RuntimeWarning: invalid value encountered in multiply\n",
      "  app.launch_new_instance()\n"
     ]
    }
   ],
   "source": [
    "reg = 0\n",
    "max_score = 0\n",
    "for i in range(0,10,1):\n",
    "    model = LogisticRegression_new(lr=0.1, num_iter=1000,lamb = i)\n",
    "    model.fit(x_train,y_train)\n",
    "    preds = model.predict(x_test)\n",
    "    score = (preds == y_test).mean()\n",
    "    if(score >= max_score):\n",
    "        reg = i\n",
    "        max_score = score\n",
    "        "
   ]
  },
  {
   "cell_type": "code",
   "execution_count": 25,
   "metadata": {},
   "outputs": [
    {
     "name": "stdout",
     "output_type": "stream",
     "text": [
      "(3, 0.9254385964912281)\n"
     ]
    }
   ],
   "source": [
    "print(reg, max_score)"
   ]
  },
  {
   "cell_type": "code",
   "execution_count": 26,
   "metadata": {},
   "outputs": [],
   "source": [
    "def k_fold_cross(x, y, k):\n",
    "    n = len(x)\n",
    "    batches = n//k\n",
    "    print(batches)\n",
    "    optimum_weights = []\n",
    "    acc = 0\n",
    "    for i in range(0,k):\n",
    "        x_test = x[i*batches: i*batches + batches]\n",
    "        y_test = y[i*batches: i*batches + batches]\n",
    "        arr = [j for j in range(i*batches, i*batches + batches)]\n",
    "        x_train = []\n",
    "        y_train = []\n",
    "        for j in range(0,i*batches):\n",
    "            x_train.append(x[j])\n",
    "            y_train.append(y[j])\n",
    "        for j in range(i*batches + batches + 1, n):\n",
    "            x_train.append(x[j])\n",
    "            y_train.append(y[j])\n",
    "            \n",
    "        print(len(x_train),len(y_train),len(x_test))\n",
    "        x_train = np.array(x_train)\n",
    "        y_train = np.array(y_train)\n",
    "        model = LogisticRegression_new(lr=0.1, num_iter=1000,lamb = max_score)\n",
    "        model.fit(x_train,y_train)\n",
    "        preds = model.predict(x_test)\n",
    "        score = (preds == y_test).mean()\n",
    "        print(\"Score = \",score)\n",
    "        if(score>acc):\n",
    "            acc = score\n",
    "            optimum_weights = model.get_weights()\n",
    "    return optimum_weights"
   ]
  },
  {
   "cell_type": "code",
   "execution_count": 27,
   "metadata": {
    "scrolled": false
   },
   "outputs": [
    {
     "name": "stdout",
     "output_type": "stream",
     "text": [
      "56\n",
      "(512, 512, 56)\n",
      "('Score = ', 0.75)\n",
      "(512, 512, 56)\n"
     ]
    },
    {
     "name": "stderr",
     "output_type": "stream",
     "text": [
      "/home/uditi/anaconda2/lib/python2.7/site-packages/ipykernel_launcher.py:16: RuntimeWarning: divide by zero encountered in log\n",
      "  app.launch_new_instance()\n",
      "/home/uditi/anaconda2/lib/python2.7/site-packages/ipykernel_launcher.py:16: RuntimeWarning: invalid value encountered in multiply\n",
      "  app.launch_new_instance()\n"
     ]
    },
    {
     "name": "stdout",
     "output_type": "stream",
     "text": [
      "('Score = ', 0.9464285714285714)\n",
      "(512, 512, 56)\n",
      "('Score = ', 0.9642857142857143)\n",
      "(512, 512, 56)\n",
      "('Score = ', 0.8571428571428571)\n",
      "(512, 512, 56)\n",
      "('Score = ', 0.6607142857142857)\n",
      "(512, 512, 56)\n",
      "('Score = ', 0.9642857142857143)\n",
      "(512, 512, 56)\n",
      "('Score = ', 0.8571428571428571)\n",
      "(512, 512, 56)\n",
      "('Score = ', 0.8214285714285714)\n",
      "(512, 512, 56)\n",
      "('Score = ', 0.8928571428571429)\n",
      "(512, 512, 56)\n",
      "('Score = ', 0.8392857142857143)\n"
     ]
    }
   ],
   "source": [
    "optimum_weights = k_fold_cross(x,y,10)"
   ]
  },
  {
   "cell_type": "code",
   "execution_count": 28,
   "metadata": {},
   "outputs": [
    {
     "data": {
      "text/plain": [
       "array([ 3.87024108e+00,  2.95738577e+01,  4.30305567e+01,  1.72534883e+02,\n",
       "        7.46613189e+01,  2.75412979e-01, -1.06197108e-01, -5.11175418e-01,\n",
       "       -2.17046068e-01,  5.30710648e-01,  2.17451276e-01,  1.19810119e-01,\n",
       "        2.83344365e+00, -7.83869309e-01, -7.11587727e+01,  1.55325192e-02,\n",
       "       -3.25091208e-02, -6.53003409e-02, -7.04398092e-03,  5.10811920e-02,\n",
       "        2.92009806e-03,  3.11725195e+01,  5.54568439e+01,  1.74303472e+02,\n",
       "       -9.94495044e+01,  3.48157433e-01, -4.82408636e-01, -1.03410869e+00,\n",
       "       -2.37255522e-01,  7.50133489e-01,  2.03709675e-01])"
      ]
     },
     "execution_count": 28,
     "metadata": {},
     "output_type": "execute_result"
    }
   ],
   "source": [
    "optimum_weights"
   ]
  },
  {
   "cell_type": "code",
   "execution_count": 31,
   "metadata": {},
   "outputs": [],
   "source": [
    "x_train,x_test, y_train, y_test = train_test_split(x,y,test_size = 0.4, random_state = 0)\n"
   ]
  },
  {
   "cell_type": "code",
   "execution_count": 32,
   "metadata": {},
   "outputs": [],
   "source": [
    "new_model = LogisticRegression_new(lr=0.1, num_iter=1000,lamb = reg, theta = optimum_weights)\n",
    "y_pred1 = new_model.predict(x_train)\n",
    "y_pred2 = new_model.predict(x_test)\n"
   ]
  },
  {
   "cell_type": "code",
   "execution_count": 33,
   "metadata": {},
   "outputs": [
    {
     "name": "stdout",
     "output_type": "stream",
     "text": [
      "('Score = ', 0.9090909090909091)\n",
      "('Score = ', 0.9385964912280702)\n"
     ]
    }
   ],
   "source": [
    "print(\"Score = \",(y_pred1 == y_train).mean())\n",
    "print(\"Score = \",(y_pred2 == y_test).mean())"
   ]
  },
  {
   "cell_type": "code",
   "execution_count": null,
   "metadata": {},
   "outputs": [],
   "source": []
  }
 ],
 "metadata": {
  "kernelspec": {
   "display_name": "Python 2",
   "language": "python",
   "name": "python2"
  },
  "language_info": {
   "codemirror_mode": {
    "name": "ipython",
    "version": 2
   },
   "file_extension": ".py",
   "mimetype": "text/x-python",
   "name": "python",
   "nbconvert_exporter": "python",
   "pygments_lexer": "ipython2",
   "version": "2.7.16"
  }
 },
 "nbformat": 4,
 "nbformat_minor": 2
}
